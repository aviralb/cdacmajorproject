{
 "cells": [
  {
   "cell_type": "code",
   "execution_count": 9,
   "metadata": {},
   "outputs": [],
   "source": [
    "import pandas as pd\n",
    "\n",
    "import pyarrow\n",
    "import fastparquet"
   ]
  },
  {
   "cell_type": "code",
   "execution_count": 10,
   "metadata": {},
   "outputs": [],
   "source": [
    "a = pd.read_parquet('1 (1).parquet')\n",
    "b = pd.read_parquet('1 (2).parquet')\n",
    "c = pd.read_parquet('1 (3).parquet')\n",
    "d = pd.read_parquet('1 (4).parquet')\n",
    "e = pd.read_parquet('1 (5).parquet')\n",
    "f = pd.read_parquet('1 (6).parquet')\n",
    "g = pd.read_parquet('1 (7).parquet')\n",
    "h = pd.read_parquet('1 (8).parquet')\n",
    "i = pd.read_parquet('1 (9).parquet')\n",
    "j = pd.read_parquet('1 (10).parquet')\n",
    "k = pd.read_parquet('1 (11).parquet')\n",
    "l = pd.read_parquet('1 (12).parquet')\n",
    "m = pd.read_parquet('1 (13).parquet')\n",
    "n = pd.read_parquet('1 (14).parquet')\n",
    "o = pd.read_parquet('1 (15).parquet')\n",
    "p = pd.read_parquet('1 (16).parquet')\n",
    "q = pd.read_parquet('1 (17).parquet')\n",
    "r = pd.read_parquet('1 (18).parquet')\n",
    "s = pd.read_parquet('1 (19).parquet')\n",
    "t = pd.read_parquet('1 (20).parquet')\n",
    "u = pd.read_parquet('1 (21).parquet')\n",
    "v = pd.read_parquet('1 (22).parquet')\n",
    "w = pd.read_parquet('1 (23).parquet')\n",
    "x = pd.read_parquet('1 (24).parquet')\n",
    "y = pd.read_parquet('1 (25).parquet')\n",
    "z = pd.read_parquet('1 (26).parquet')\n",
    "aa = pd.read_parquet('1 (27).parquet')\n",
    "ab = pd.read_parquet('1 (28).parquet')\n",
    "ac = pd.read_parquet('1 (29).parquet')\n",
    "ad = pd.read_parquet('1 (30).parquet')\n",
    "ae = pd.read_parquet('1 (31).parquet')\n",
    "af = pd.read_parquet('1 (32).parquet')\n",
    "ag = pd.read_parquet('1 (33).parquet')\n",
    "ah = pd.read_parquet('1 (34).parquet')\n",
    "ai = pd.read_parquet('1 (35).parquet')\n",
    "aj = pd.read_parquet('1 (36).parquet')\n",
    "ak = pd.read_parquet('1 (37).parquet')\n",
    "al = pd.read_parquet('1 (38).parquet')\n",
    "am = pd.read_parquet('1 (39).parquet')\n",
    "an = pd.read_parquet('1 (40).parquet')\n",
    "ao = pd.read_parquet('1 (41).parquet')\n",
    "ap = pd.read_parquet('1 (42).parquet')\n",
    "aq = pd.read_parquet('1 (43).parquet')\n"
   ]
  },
  {
   "cell_type": "code",
   "execution_count": 11,
   "metadata": {},
   "outputs": [],
   "source": [
    "a.to_csv('1.csv')\n",
    "b.to_csv('2.csv')\n",
    "c.to_csv('3.csv')\n",
    "d.to_csv('4.csv')\n",
    "e.to_csv('5.csv')\n",
    "f.to_csv('6.csv')\n",
    "g.to_csv('7.csv')\n",
    "h.to_csv('8.csv')\n",
    "i.to_csv('9.csv')\n",
    "j.to_csv('10.csv')\n",
    "k.to_csv('11.csv')\n",
    "l.to_csv('12.csv')\n",
    "m.to_csv('13.csv')\n",
    "n.to_csv('14.csv')\n",
    "o.to_csv('15.csv')\n",
    "p.to_csv('16.csv')\n",
    "q.to_csv('17.csv')\n",
    "r.to_csv('18.csv')\n",
    "s.to_csv('19.csv')\n",
    "t.to_csv('20.csv')\n",
    "u.to_csv('21.csv')\n",
    "v.to_csv('22.csv')\n",
    "w.to_csv('23.csv')\n",
    "x.to_csv('24.csv')\n",
    "y.to_csv('25.csv')\n",
    "z.to_csv('26.csv')\n",
    "aa.to_csv('27.csv')\n",
    "ab.to_csv('28.csv')\n",
    "ac.to_csv('29.csv')\n",
    "ad.to_csv('30.csv')\n",
    "ae.to_csv('31.csv')\n",
    "af.to_csv('32.csv')\n",
    "ag.to_csv('33.csv')\n",
    "ah.to_csv('34.csv')\n",
    "ai.to_csv('35.csv')\n",
    "aj.to_csv('36.csv')\n",
    "ak.to_csv('37.csv')\n",
    "al.to_csv('38.csv')\n",
    "am.to_csv('39.csv')\n",
    "an.to_csv('40.csv')\n",
    "ao.to_csv('41.csv')\n",
    "ap.to_csv('42.csv')\n",
    "aq.to_csv('43.csv')\n"
   ]
  },
  {
   "cell_type": "code",
   "execution_count": null,
   "metadata": {},
   "outputs": [],
   "source": [
    "df1 = pd.read_csv(r\"E:\\Business\\Economic Indicators\\Consumer Price Index - Core (YoY) - European Monetary Union.csv\",\n",
    "                  index_col=[0], parse_dates=[0])\n",
    "df2 = pd.read_csv(r\"E:\\Business\\Economic Indicators\\Private loans (YoY) - European Monetary Union.csv\",\n",
    "                  index_col=[0], parse_dates=[0])\n",
    "df3 = pd.read_csv(r\"E:\\Business\\Economic Indicators\\Current Account s.a - European Monetary Union.csv\",\n",
    "                  index_col=[0], parse_dates=[0])\n",
    "\n",
    "finaldf = pd.concat([df1, df2, df3], axis=1, join='inner').sort_index()"
   ]
  },
  {
   "cell_type": "code",
   "execution_count": null,
   "metadata": {},
   "outputs": [],
   "source": []
  },
  {
   "cell_type": "code",
   "execution_count": null,
   "metadata": {},
   "outputs": [],
   "source": []
  },
  {
   "cell_type": "code",
   "execution_count": null,
   "metadata": {},
   "outputs": [],
   "source": []
  }
 ],
 "metadata": {
  "kernelspec": {
   "display_name": "Python 3",
   "language": "python",
   "name": "python3"
  },
  "language_info": {
   "codemirror_mode": {
    "name": "ipython",
    "version": 3
   },
   "file_extension": ".py",
   "mimetype": "text/x-python",
   "name": "python",
   "nbconvert_exporter": "python",
   "pygments_lexer": "ipython3",
   "version": "3.7.1"
  }
 },
 "nbformat": 4,
 "nbformat_minor": 2
}
